{
  "cells": [
    {
      "cell_type": "markdown",
      "id": "6f8da830",
      "metadata": {
        "id": "6f8da830"
      },
      "source": [
        "## CT5135 Research Topics in AI 2022-2023\n",
        "\n",
        "## Assignment 2\n",
        "\n",
        "* Student ID(s): 22220805, 22222806, 22210643\n",
        "* Student name(s): Soumitra Koustubh Manavi, Jash Prakash Rana, Pratik Anil Rahood\n",
        "\n",
        "## Analysis of the problem \n",
        "\n",
        "In this assignment the goal is to build network like a **Convolutional Neural Network (CNN)**. The difference is that instead of a Convolution layer in a CNN, you have to introduce a new layer where each time a new partially shared kernel calculates weight sum. The below image shows the proposed model with a weight matrix equal to input image size. The weight kernel updates the weighted value for all neurons. Whereas in CNN layer, weight kernel like 3x3 slides over whole input image to generate output feature map.</br>\n",
        "\n",
        "To build proposed model the difference is in weight kernel and weight matrix. CNN has a kernel that is slided over the whole input image shape. A weight matrix from which each time a locally position oriented kernel is used for calculating the weighted sum operation for proposed model.\n",
        "\n",
        "![image.png](attachment:image.png)"
      ]
    },
    {
      "cell_type": "code",
      "execution_count": 1,
      "id": "GSqQyqzMIkPS",
      "metadata": {
        "colab": {
          "base_uri": "https://localhost:8080/"
        },
        "id": "GSqQyqzMIkPS",
        "outputId": "f6fb7d83-1f7a-4956-cac1-3839936a59dc"
      },
      "outputs": [],
      "source": [
        "# from google.colab import drive\n",
        "# drive.mount('/content/drive')"
      ]
    },
    {
      "cell_type": "code",
      "execution_count": 1,
      "id": "57dcc0a7",
      "metadata": {
        "id": "57dcc0a7"
      },
      "outputs": [],
      "source": [
        "import numpy as np\n",
        "import pandas as pd\n",
        "import os, datetime\n",
        "from PIL import Image\n",
        "import matplotlib.pyplot as plt\n",
        "from sklearn.metrics import classification_report\n",
        "\n",
        "import warnings\n",
        "warnings.filterwarnings('ignore')"
      ]
    },
    {
      "cell_type": "code",
      "execution_count": 25,
      "id": "6081fe57",
      "metadata": {
        "id": "6081fe57"
      },
      "outputs": [],
      "source": [
        "import tensorflow as tf\n",
        "from tensorflow import keras\n",
        "from keras import layers, models\n",
        "import cv2\n",
        "\n",
        "from tensorflow.keras.layers import Input, Conv2D, MaxPooling2D\n",
        "from tensorflow.keras.layers import Flatten, Dense, ReLU, Softmax, Activation\n",
        "from tensorflow.keras.models import Model, Sequential\n",
        "from tensorflow.keras.callbacks import EarlyStopping\n",
        "\n",
        "np.random.seed(101)\n",
        "tf.random.set_seed(101)"
      ]
    },
    {
      "attachments": {},
      "cell_type": "markdown",
      "id": "c4407a94",
      "metadata": {
        "id": "c4407a94"
      },
      "source": [
        "### Utility functions (OpenCV): \n",
        "\n",
        "load_images : checks the image dimensions and adds valid images </br>\n",
        "Ref: https://learnopencv.com/read-display-and-write-an-image-using-opencv/\n",
        "\n",
        "resize_images : resizing different images to 320x320 </br>\n",
        "Ref: https://learnopencv.com/image-resizing-with-opencv/"
      ]
    },
    {
      "cell_type": "code",
      "execution_count": 3,
      "id": "a7fff754",
      "metadata": {
        "id": "a7fff754"
      },
      "outputs": [],
      "source": [
        "def load_images(file): \n",
        "  input_path = './dataset/' + file\n",
        "  filenames = [input_path + filename for filename in os.listdir(input_path)]\n",
        "  images = [cv2.imread(filename) for filename in filenames]\n",
        "  return images"
      ]
    },
    {
      "cell_type": "code",
      "execution_count": 4,
      "id": "U_RNo6oyQJ23",
      "metadata": {
        "id": "U_RNo6oyQJ23"
      },
      "outputs": [],
      "source": [
        "def resize_images(images):\n",
        "  resized_image_list=[]\n",
        "  labels=[]\n",
        "  for i in images:\n",
        "    resize_image = cv2.resize(i, dsize=(320, 320))\n",
        "    resized_image_list.append(resize_image)\n",
        "  return resized_image_list  "
      ]
    },
    {
      "cell_type": "code",
      "execution_count": 5,
      "id": "15nn6utcP5RW",
      "metadata": {
        "id": "15nn6utcP5RW"
      },
      "outputs": [],
      "source": [
        "alpaca_images = load_images('alpaca/')\n",
        "resized_alpaca_images = resize_images(alpaca_images)\n"
      ]
    },
    {
      "cell_type": "code",
      "execution_count": 6,
      "id": "4bc76cc1",
      "metadata": {
        "colab": {
          "base_uri": "https://localhost:8080/"
        },
        "id": "4bc76cc1",
        "outputId": "4c251274-8dc8-41c7-b1bc-7d65e7860f1b"
      },
      "outputs": [
        {
          "data": {
            "text/plain": [
              "(142, 320, 320, 3)"
            ]
          },
          "execution_count": 6,
          "metadata": {},
          "output_type": "execute_result"
        }
      ],
      "source": [
        "alcapa_img_array = np.array(resized_alpaca_images)\n",
        "alcapa_img_array.shape"
      ]
    },
    {
      "cell_type": "code",
      "execution_count": 7,
      "id": "bf7208f1",
      "metadata": {
        "id": "bf7208f1"
      },
      "outputs": [],
      "source": [
        "not_alpaca_images = load_images('not alpaca/')\n",
        "resized_not_alpaca_images = resize_images(not_alpaca_images)"
      ]
    },
    {
      "cell_type": "code",
      "execution_count": 8,
      "id": "q0Rl_4NbU7fk",
      "metadata": {
        "colab": {
          "base_uri": "https://localhost:8080/"
        },
        "id": "q0Rl_4NbU7fk",
        "outputId": "58fb7c15-f974-4548-b863-11aaf1268ae5"
      },
      "outputs": [
        {
          "data": {
            "text/plain": [
              "(185, 320, 320, 3)"
            ]
          },
          "execution_count": 8,
          "metadata": {},
          "output_type": "execute_result"
        }
      ],
      "source": [
        "not_alcapa_img_array = np.array(resized_not_alpaca_images)\n",
        "not_alcapa_img_array.shape"
      ]
    },
    {
      "cell_type": "code",
      "execution_count": 9,
      "id": "wsyRfKwLVAKZ",
      "metadata": {
        "colab": {
          "base_uri": "https://localhost:8080/"
        },
        "id": "wsyRfKwLVAKZ",
        "outputId": "edae246a-0f97-433c-b917-910969c70493"
      },
      "outputs": [
        {
          "name": "stdout",
          "output_type": "stream",
          "text": [
            "142\n"
          ]
        }
      ],
      "source": [
        "alpaca_labels=[]\n",
        "alpaca_labels = tf.ones(alcapa_img_array.shape[0])\n",
        "print(len(alpaca_labels))  "
      ]
    },
    {
      "cell_type": "code",
      "execution_count": 10,
      "id": "FE9Dn9-7ZXrC",
      "metadata": {
        "colab": {
          "base_uri": "https://localhost:8080/"
        },
        "id": "FE9Dn9-7ZXrC",
        "outputId": "45c8b888-06d6-4190-c2bc-fedda0fc7417"
      },
      "outputs": [
        {
          "name": "stdout",
          "output_type": "stream",
          "text": [
            "185\n"
          ]
        }
      ],
      "source": [
        "not_alpaca_labels=[]\n",
        "not_alpaca_labels = tf.zeros(not_alcapa_img_array.shape[0])\n",
        "print(len(not_alpaca_labels))"
      ]
    },
    {
      "cell_type": "markdown",
      "id": "UmUuUgxKegEm",
      "metadata": {
        "id": "UmUuUgxKegEm"
      },
      "source": [
        "### Concatenating alpaca and not alpaca data with labels 1 for alpaca and 0 for not alpaca"
      ]
    },
    {
      "cell_type": "code",
      "execution_count": 11,
      "id": "vBbH--RoZozt",
      "metadata": {
        "id": "vBbH--RoZozt"
      },
      "outputs": [],
      "source": [
        "data = np.concatenate((alcapa_img_array, not_alcapa_img_array))\n",
        "labels = np.concatenate((alpaca_labels, not_alpaca_labels))"
      ]
    },
    {
      "cell_type": "markdown",
      "id": "ZaCA27PieuIj",
      "metadata": {
        "id": "ZaCA27PieuIj"
      },
      "source": [
        "### Train-Test split: "
      ]
    },
    {
      "cell_type": "code",
      "execution_count": 12,
      "id": "cK3_bajlaXaE",
      "metadata": {
        "id": "cK3_bajlaXaE"
      },
      "outputs": [],
      "source": [
        "from sklearn.model_selection import train_test_split\n",
        "from keras.utils import to_categorical\n",
        "#reference : rescaling : \n",
        "# https://blog.keras.io/building-powerful-image-classification-models-using-very-little-data.html\n",
        "\n",
        "X_train, X_test, y_train, y_test = train_test_split(data/255, \n",
        "                                                    to_categorical(labels), \n",
        "                                                    test_size=0.3, \n",
        "                                                    random_state=101)"
      ]
    },
    {
      "attachments": {},
      "cell_type": "markdown",
      "id": "80b4d926",
      "metadata": {},
      "source": [
        "### TensorBoard setting to callback during training the models."
      ]
    },
    {
      "cell_type": "code",
      "execution_count": 13,
      "id": "61bea47a",
      "metadata": {},
      "outputs": [],
      "source": [
        "#Refrence- https://www.tensorflow.org/tensorboard/get_started\n",
        "import datetime\n",
        "import tensorflow as tf\n",
        "\n",
        "import os\n",
        "\n",
        "# Specify the directory to delete\n",
        "directory = \"./logs/fit/\"\n",
        "\n",
        "# Use the os module to remove the directory\n",
        "os.system(f\"rm -rf {directory}\")\n",
        "\n",
        "# Load the TensorBoard notebook extension\n",
        "%load_ext tensorboard\n",
        "\n",
        "log_dir = \"logs/fit/\" + datetime.datetime.now().strftime(\"%Y%m%d-%H%M%S\")\n",
        "tensorboard_callback = tf.keras.callbacks.TensorBoard(log_dir=log_dir, histogram_freq=1)"
      ]
    },
    {
      "attachments": {},
      "cell_type": "markdown",
      "id": "05wbNj985j1k",
      "metadata": {
        "id": "05wbNj985j1k"
      },
      "source": [
        "# Model Selection\n",
        "\n",
        "### 1. Creating 2D CNN Model"
      ]
    },
    {
      "cell_type": "code",
      "execution_count": 15,
      "id": "cXF40jOw5lK9",
      "metadata": {
        "colab": {
          "base_uri": "https://localhost:8080/"
        },
        "id": "cXF40jOw5lK9",
        "outputId": "755886e8-50d4-403e-a8a1-9bd31bee2a44"
      },
      "outputs": [
        {
          "name": "stdout",
          "output_type": "stream",
          "text": [
            "Model: \"sequential\"\n",
            "_________________________________________________________________\n",
            " Layer (type)                Output Shape              Param #   \n",
            "=================================================================\n",
            " conv2d (Conv2D)             (None, 318, 318, 16)      448       \n",
            "                                                                 \n",
            " max_pooling2d (MaxPooling2D  (None, 159, 159, 16)     0         \n",
            " )                                                               \n",
            "                                                                 \n",
            " conv2d_1 (Conv2D)           (None, 157, 157, 12)      1740      \n",
            "                                                                 \n",
            " max_pooling2d_1 (MaxPooling  (None, 78, 78, 12)       0         \n",
            " 2D)                                                             \n",
            "                                                                 \n",
            " conv2d_2 (Conv2D)           (None, 76, 76, 8)         872       \n",
            "                                                                 \n",
            " max_pooling2d_2 (MaxPooling  (None, 38, 38, 8)        0         \n",
            " 2D)                                                             \n",
            "                                                                 \n",
            " flatten (Flatten)           (None, 11552)             0         \n",
            "                                                                 \n",
            " dense (Dense)               (None, 64)                739392    \n",
            "                                                                 \n",
            " dense_1 (Dense)             (None, 2)                 130       \n",
            "                                                                 \n",
            "=================================================================\n",
            "Total params: 742,582\n",
            "Trainable params: 742,582\n",
            "Non-trainable params: 0\n",
            "_________________________________________________________________\n"
          ]
        }
      ],
      "source": [
        "# Create a Sequential model\n",
        "cnn_model = keras.Sequential()\n",
        "image_size=(320,320)\n",
        "# Add Convolutional layer with 16 filters, each of size 3x3, and ReLU activation function\n",
        "cnn_model.add(tf.keras.layers.Conv2D(16, (3, 3), activation='relu', input_shape=(*image_size,3)))\n",
        "# Add MaxPooling layer with pool size of 2x2\n",
        "cnn_model.add(tf.keras.layers.MaxPooling2D(pool_size=(2, 2)))\n",
        "# Add another Convolutional layer with 12 filters, each of size 3x3, and ReLU activation function\n",
        "cnn_model.add(tf.keras.layers.Conv2D(12, (3, 3), activation='relu'))\n",
        "# Add another MaxPooling layer with pool size of 2x2\n",
        "cnn_model.add(tf.keras.layers.MaxPooling2D(pool_size=(2, 2)))\n",
        "# Add another Convolutional layer with 8 filters, each of size 3x3, and ReLU activation function\n",
        "cnn_model.add(tf.keras.layers.Conv2D(8, (3, 3), activation='relu'))\n",
        "# Add another MaxPooling layer with pool size of 2x2\n",
        "cnn_model.add(tf.keras.layers.MaxPooling2D(pool_size=(2, 2)))\n",
        "\n",
        "# converting 2D feature into 1D feature vectors\n",
        "cnn_model.add(tf.keras.layers.Flatten())\n",
        "\n",
        "cnn_model.add(tf.keras.layers.Dense(64, activation='relu'))\n",
        "# model.add(tf.keras.layers.Dense(256, activation='relu'))\n",
        "cnn_model.add(tf.keras.layers.Dense(2,activation='softmax'))\n",
        "\n",
        "cnn_model.summary()"
      ]
    },
    {
      "cell_type": "code",
      "execution_count": 16,
      "id": "UVzdZ2A65pTV",
      "metadata": {
        "colab": {
          "base_uri": "https://localhost:8080/"
        },
        "id": "UVzdZ2A65pTV",
        "outputId": "f844939b-031a-4126-d264-69744fe38515"
      },
      "outputs": [
        {
          "name": "stdout",
          "output_type": "stream",
          "text": [
            "Epoch 1/500\n",
            "6/6 [==============================] - 4s 128ms/step - loss: 0.8130 - accuracy: 0.4670 - val_loss: 0.6944 - val_accuracy: 0.4783\n",
            "Epoch 2/500\n",
            "6/6 [==============================] - 0s 42ms/step - loss: 0.6865 - accuracy: 0.5879 - val_loss: 0.6980 - val_accuracy: 0.4783\n",
            "Epoch 3/500\n",
            "6/6 [==============================] - 0s 43ms/step - loss: 0.6831 - accuracy: 0.5879 - val_loss: 0.7016 - val_accuracy: 0.4783\n",
            "Epoch 4/500\n",
            "6/6 [==============================] - 0s 42ms/step - loss: 0.6808 - accuracy: 0.5879 - val_loss: 0.7048 - val_accuracy: 0.4783\n",
            "Epoch 5/500\n",
            "6/6 [==============================] - 0s 42ms/step - loss: 0.6796 - accuracy: 0.5879 - val_loss: 0.6978 - val_accuracy: 0.4783\n",
            "Epoch 6/500\n",
            "6/6 [==============================] - 0s 43ms/step - loss: 0.6811 - accuracy: 0.5879 - val_loss: 0.7086 - val_accuracy: 0.4783\n",
            "Epoch 7/500\n",
            "6/6 [==============================] - 0s 43ms/step - loss: 0.6796 - accuracy: 0.5879 - val_loss: 0.7044 - val_accuracy: 0.4783\n",
            "Epoch 8/500\n",
            "6/6 [==============================] - 0s 43ms/step - loss: 0.6795 - accuracy: 0.5879 - val_loss: 0.7068 - val_accuracy: 0.4783\n",
            "Epoch 9/500\n",
            "6/6 [==============================] - 0s 42ms/step - loss: 0.6783 - accuracy: 0.5879 - val_loss: 0.7097 - val_accuracy: 0.4783\n",
            "Epoch 10/500\n",
            "6/6 [==============================] - 0s 42ms/step - loss: 0.6766 - accuracy: 0.5879 - val_loss: 0.7077 - val_accuracy: 0.4783\n",
            "Epoch 11/500\n",
            "6/6 [==============================] - 0s 43ms/step - loss: 0.6750 - accuracy: 0.5879 - val_loss: 0.7066 - val_accuracy: 0.4783\n",
            "Epoch 12/500\n",
            "6/6 [==============================] - 0s 42ms/step - loss: 0.6734 - accuracy: 0.5879 - val_loss: 0.7080 - val_accuracy: 0.4783\n",
            "Epoch 13/500\n",
            "6/6 [==============================] - 0s 41ms/step - loss: 0.6744 - accuracy: 0.5879 - val_loss: 0.7135 - val_accuracy: 0.4783\n",
            "Epoch 14/500\n",
            "6/6 [==============================] - 0s 42ms/step - loss: 0.6739 - accuracy: 0.5934 - val_loss: 0.7334 - val_accuracy: 0.4783\n",
            "Epoch 15/500\n",
            "6/6 [==============================] - 0s 43ms/step - loss: 0.6674 - accuracy: 0.5879 - val_loss: 0.6923 - val_accuracy: 0.5000\n",
            "Epoch 16/500\n",
            "6/6 [==============================] - 0s 42ms/step - loss: 0.6730 - accuracy: 0.5934 - val_loss: 0.7168 - val_accuracy: 0.4783\n",
            "Epoch 17/500\n",
            "6/6 [==============================] - 0s 42ms/step - loss: 0.6817 - accuracy: 0.5549 - val_loss: 0.7068 - val_accuracy: 0.4783\n",
            "Epoch 18/500\n",
            "6/6 [==============================] - 0s 42ms/step - loss: 0.6678 - accuracy: 0.5879 - val_loss: 0.7012 - val_accuracy: 0.4783\n",
            "Epoch 19/500\n",
            "6/6 [==============================] - 0s 43ms/step - loss: 0.6588 - accuracy: 0.5934 - val_loss: 0.6968 - val_accuracy: 0.5000\n",
            "Epoch 20/500\n",
            "6/6 [==============================] - 0s 42ms/step - loss: 0.6621 - accuracy: 0.6209 - val_loss: 0.6934 - val_accuracy: 0.4783\n",
            "Epoch 21/500\n",
            "6/6 [==============================] - 0s 43ms/step - loss: 0.6550 - accuracy: 0.6429 - val_loss: 0.6891 - val_accuracy: 0.5435\n",
            "Epoch 22/500\n",
            "6/6 [==============================] - 0s 43ms/step - loss: 0.6353 - accuracy: 0.7088 - val_loss: 0.7002 - val_accuracy: 0.4783\n",
            "Epoch 23/500\n",
            "6/6 [==============================] - 0s 42ms/step - loss: 0.6198 - accuracy: 0.6648 - val_loss: 0.7173 - val_accuracy: 0.4783\n",
            "Epoch 24/500\n",
            "6/6 [==============================] - 0s 42ms/step - loss: 0.6171 - accuracy: 0.6813 - val_loss: 0.6907 - val_accuracy: 0.5000\n",
            "Epoch 25/500\n",
            "6/6 [==============================] - 0s 41ms/step - loss: 0.6207 - accuracy: 0.6429 - val_loss: 0.6643 - val_accuracy: 0.5652\n",
            "Epoch 26/500\n",
            "6/6 [==============================] - 0s 42ms/step - loss: 0.5943 - accuracy: 0.7088 - val_loss: 0.7744 - val_accuracy: 0.4783\n",
            "Epoch 27/500\n",
            "6/6 [==============================] - 0s 41ms/step - loss: 0.7004 - accuracy: 0.5220 - val_loss: 0.7364 - val_accuracy: 0.4783\n",
            "Epoch 28/500\n",
            "6/6 [==============================] - 0s 41ms/step - loss: 0.6803 - accuracy: 0.5879 - val_loss: 0.7259 - val_accuracy: 0.4783\n",
            "Epoch 29/500\n",
            "6/6 [==============================] - 0s 41ms/step - loss: 0.6788 - accuracy: 0.5879 - val_loss: 0.7203 - val_accuracy: 0.4783\n",
            "Epoch 30/500\n",
            "6/6 [==============================] - 0s 41ms/step - loss: 0.6784 - accuracy: 0.5879 - val_loss: 0.7172 - val_accuracy: 0.4783\n",
            "Epoch 31/500\n",
            "6/6 [==============================] - 0s 44ms/step - loss: 0.6783 - accuracy: 0.5879 - val_loss: 0.7153 - val_accuracy: 0.4783\n"
          ]
        }
      ],
      "source": [
        "es = EarlyStopping(monitor='loss', mode='min',patience=5 ,restore_best_weights=True)\n",
        "\n",
        "cnn_model.compile(optimizer = tf.keras.optimizers.SGD(learning_rate = 0.1), \n",
        "                       loss = tf.keras.losses.CategoricalCrossentropy(), \n",
        "                       metrics = ['accuracy'])\n",
        "\n",
        "cnn_history = cnn_model.fit(X_train, y_train, batch_size=32, epochs=500, \n",
        "                    callbacks=[es], validation_split=0.2, shuffle = False)"
      ]
    },
    {
      "cell_type": "code",
      "execution_count": 17,
      "id": "05Lg6kL-5tLF",
      "metadata": {
        "colab": {
          "base_uri": "https://localhost:8080/"
        },
        "id": "05Lg6kL-5tLF",
        "outputId": "74e2a4a7-f976-405a-f63b-320444ee9327"
      },
      "outputs": [
        {
          "name": "stdout",
          "output_type": "stream",
          "text": [
            "4/4 [==============================] - 0s 31ms/step - loss: 0.7105 - accuracy: 0.5657\n",
            "Test Loss: 0.7104741930961609 , Test Accuracy: 0.5656565427780151\n"
          ]
        }
      ],
      "source": [
        "test_loss, test_accuracy = cnn_model.evaluate(X_test, y_test)\n",
        "print(\"Test Loss:\" ,test_loss ,\",\" ,\"Test Accuracy:\",test_accuracy)"
      ]
    },
    {
      "cell_type": "code",
      "execution_count": 18,
      "id": "bfea63e9",
      "metadata": {},
      "outputs": [
        {
          "name": "stdout",
          "output_type": "stream",
          "text": [
            "4/4 [==============================] - 0s 11ms/step\n"
          ]
        }
      ],
      "source": [
        "cnn_predictions = cnn_model.predict(X_test)\n",
        "cnn_predictions = np.array(tf.argmax(cnn_predictions, axis=1))\n",
        "y_test = np.array(tf.argmax(y_test, axis=1))"
      ]
    },
    {
      "cell_type": "code",
      "execution_count": 19,
      "id": "b0ae06c8",
      "metadata": {},
      "outputs": [
        {
          "name": "stdout",
          "output_type": "stream",
          "text": [
            "              precision    recall  f1-score   support\n",
            "\n",
            "           0       0.57      1.00      0.72        56\n",
            "           1       0.00      0.00      0.00        43\n",
            "\n",
            "    accuracy                           0.57        99\n",
            "   macro avg       0.28      0.50      0.36        99\n",
            "weighted avg       0.32      0.57      0.41        99\n",
            "\n"
          ]
        }
      ],
      "source": [
        "print(classification_report(y_test,cnn_predictions))"
      ]
    },
    {
      "cell_type": "code",
      "execution_count": 20,
      "id": "TMnMt89R5y2o",
      "metadata": {
        "colab": {
          "base_uri": "https://localhost:8080/",
          "height": 295
        },
        "id": "TMnMt89R5y2o",
        "outputId": "dd656e8e-470b-46f2-a307-a55b42096662"
      },
      "outputs": [
        {
          "data": {
            "image/png": "[encoded data removed]",
            "text/plain": [
              "<Figure size 1200x800 with 1 Axes>"
            ]
          },
          "metadata": {},
          "output_type": "display_data"
        }
      ],
      "source": [
        "lowest = np.amin(cnn_history.history['val_loss'])\n",
        "time = np.where(cnn_history.history['val_loss'] == lowest)\n",
        "\n",
        "\n",
        "fig = plt.figure(figsize = (12,8))\n",
        "fig = plt.plot(cnn_history.history['loss'])\n",
        "fig = plt.plot(cnn_history.history['val_loss'])\n",
        "fig = plt.axvline(x = time, color = 'green', linestyle = '--')\n",
        "plt.title('CNN Model - Training vs Validation Loss')\n",
        "plt.ylabel('Loss')\n",
        "plt.xlabel('Iteration')\n",
        "plt.legend(['train', 'val', 'model'], loc='upper right')\n",
        "plt.show()"
      ]
    },
    {
      "cell_type": "markdown",
      "id": "V_CyCqyXe1VL",
      "metadata": {
        "id": "V_CyCqyXe1VL"
      },
      "source": [
        "### 2] Creating Proposed Model - "
      ]
    },
    {
      "cell_type": "code",
      "execution_count": 28,
      "id": "huIXQwiN_W7R",
      "metadata": {
        "id": "huIXQwiN_W7R"
      },
      "outputs": [],
      "source": [
        "X_train1, X_test1, y_train1, y_test1 = train_test_split(data/255,labels,test_size=0.3,random_state=101)"
      ]
    },
    {
      "cell_type": "code",
      "execution_count": 19,
      "id": "h8hwApB4bQaY",
      "metadata": {
        "colab": {
          "base_uri": "https://localhost:8080/"
        },
        "id": "h8hwApB4bQaY",
        "outputId": "025aca65-55ec-4463-96b8-17da20501cac"
      },
      "outputs": [],
      "source": [
        "#Refrence- https://keras.io/guides/making_new_layers_and_models_via_subclassing/\n",
        "\n",
        "class ProposedLayer(tf.keras.layers.Layer):\n",
        "    def __init__(self, weight_matrix, kernel_size, **kwargs):\n",
        "        # Store the weight matrix and kernel size as attributes of the class\n",
        "        self.weight_matrix = weight_matrix\n",
        "        self.kernel_size = kernel_size\n",
        "        # Call the superclass constructor with any additional keyword arguments\n",
        "        super(ProposedLayer, self).__init__(**kwargs)\n",
        "        \n",
        "    def build(self, input_shape):\n",
        "        # Initialize a large weight matrix with shape (kernel_size, kernel_size, input_channels, weight_matrix)\n",
        "        self.kernel = self.add_weight(name='kernel',\n",
        "                                      shape=(self.kernel_size, self.kernel_size, input_shape[-1], self.weight_matrix),\n",
        "                                      initializer='glorot_uniform',\n",
        "                                      trainable=True)\n",
        "        # Call the superclass build method to finalize the build process\n",
        "        super(ProposedLayer, self).build(input_shape)\n",
        "\n",
        "    def compute(self,rf,x):\n",
        "        # Perform a convolution with stride 1 and same padding \n",
        "        #Using tf.nn.conv2d which computes a 2-D convolution given input and 4-D filters tensors.\n",
        "        #Refrence- https://www.tensorflow.org/api_docs/python/tf/nn/conv2d\n",
        "        convolution = tf.nn.conv2d(x, rf, strides=[1, 1, 1, 1], padding='SAME')\n",
        "        return convolution\n",
        "\n",
        "    #Ref: https://stackoverflow.com/questions/61390089/ignoring-layers-with-arguments-in-init-must-override-get-config\n",
        "    def get_config(self):\n",
        "        cfg = super().get_config()\n",
        "        return cfg \n",
        "\n",
        "    def call(self, x):\n",
        "        # Select receptive fields from the weight matrix\n",
        "        output = []\n",
        "        for i in range(self.weight_matrix):\n",
        "            # Slice out a receptive field of shape (kernel_size, kernel_size, input_channels, 1)\n",
        "            receptive_fields = tf.slice(self.kernel, [0, 0, 0, i], [-1, -1, -1, 1])\n",
        "            output.append(self.compute(receptive_fields,x))\n",
        "        \n",
        "        # Concatenate the output feature maps along the last dimension\n",
        "        concat_layer = tf.keras.layers.Concatenate(axis=-1)\n",
        "        output = concat_layer(output)\n",
        "        \n",
        "        return output"
      ]
    },
    {
      "cell_type": "code",
      "execution_count": 23,
      "id": "8e198430",
      "metadata": {},
      "outputs": [
        {
          "name": "stdout",
          "output_type": "stream",
          "text": [
            "Model: \"sequential_1\"\n",
            "_________________________________________________________________\n",
            " Layer (type)                Output Shape              Param #   \n",
            "=================================================================\n",
            " proposed_layer (ProposedLay  (None, 320, 320, 16)     432       \n",
            " er)                                                             \n",
            "                                                                 \n",
            " re_lu (ReLU)                (None, 320, 320, 16)      0         \n",
            "                                                                 \n",
            " max_pooling2d_3 (MaxPooling  (None, 160, 160, 16)     0         \n",
            " 2D)                                                             \n",
            "                                                                 \n",
            " proposed_layer_1 (ProposedL  (None, 160, 160, 12)     1728      \n",
            " ayer)                                                           \n",
            "                                                                 \n",
            " re_lu_1 (ReLU)              (None, 160, 160, 12)      0         \n",
            "                                                                 \n",
            " max_pooling2d_4 (MaxPooling  (None, 80, 80, 12)       0         \n",
            " 2D)                                                             \n",
            "                                                                 \n",
            " proposed_layer_2 (ProposedL  (None, 80, 80, 8)        864       \n",
            " ayer)                                                           \n",
            "                                                                 \n",
            " re_lu_2 (ReLU)              (None, 80, 80, 8)         0         \n",
            "                                                                 \n",
            " flatten_1 (Flatten)         (None, 51200)             0         \n",
            "                                                                 \n",
            " dense_2 (Dense)             (None, 64)                3276864   \n",
            "                                                                 \n",
            " re_lu_3 (ReLU)              (None, 64)                0         \n",
            "                                                                 \n",
            " dense_3 (Dense)             (None, 1)                 65        \n",
            "                                                                 \n",
            "=================================================================\n",
            "Total params: 3,279,953\n",
            "Trainable params: 3,279,953\n",
            "Non-trainable params: 0\n",
            "_________________________________________________________________\n"
          ]
        }
      ],
      "source": [
        "# Define the list of layers\n",
        "my_layers = [\n",
        "    Input(shape=(320, 320, 3)),\n",
        "    ProposedLayer(weight_matrix=16, kernel_size=3),\n",
        "    ReLU(),\n",
        "    MaxPooling2D(pool_size=(2, 2)),\n",
        "    ProposedLayer(weight_matrix=12, kernel_size=3),\n",
        "    ReLU(),\n",
        "    MaxPooling2D(pool_size=(2, 2)),\n",
        "    ProposedLayer(weight_matrix=8, kernel_size=3),\n",
        "    ReLU(),\n",
        "    Flatten(),\n",
        "    Dense(64),\n",
        "    ReLU(),\n",
        "    Dense(1, activation='sigmoid')\n",
        "]\n",
        "\n",
        "# Create the Sequential model\n",
        "proposed_model = Sequential(my_layers)\n",
        "\n",
        "# Print the summary of the model\n",
        "proposed_model.summary()\n",
        "\n",
        "# Compile the model\n",
        "proposed_model.compile(optimizer = tf.keras.optimizers.SGD(learning_rate = 0.1), \n",
        "                       loss = tf.keras.losses.BinaryCrossentropy(), \n",
        "                       metrics = ['accuracy'])"
      ]
    },
    {
      "cell_type": "code",
      "execution_count": 27,
      "id": "ScwHyX-XACn0",
      "metadata": {
        "colab": {
          "base_uri": "https://localhost:8080/"
        },
        "id": "ScwHyX-XACn0",
        "outputId": "780547b1-b101-4d85-cbf6-3d573d239d9a"
      },
      "outputs": [],
      "source": [
        "# Train the model\n",
        "Early_stopping = EarlyStopping(monitor='val_loss', \n",
        "                               mode='min', \n",
        "                               patience=10, \n",
        "                               restore_best_weights=True)"
      ]
    },
    {
      "cell_type": "code",
      "execution_count": null,
      "id": "d443ff6e",
      "metadata": {},
      "outputs": [],
      "source": [
        "my_history_early = proposed_model.fit(X_train1, y_train1, batch_size=32, epochs=500, \n",
        "                     validation_split=0.2, callbacks=[Early_stopping, tensorboard_callback], shuffle = False)"
      ]
    },
    {
      "cell_type": "code",
      "execution_count": 25,
      "id": "R9bAokQMydaP",
      "metadata": {
        "colab": {
          "base_uri": "https://localhost:8080/"
        },
        "id": "R9bAokQMydaP",
        "outputId": "65b3357f-7a47-4b8d-d488-d01d2ae3452f"
      },
      "outputs": [
        {
          "name": "stdout",
          "output_type": "stream",
          "text": [
            "4/4 [==============================] - 1s 134ms/step - loss: 0.6840 - accuracy: 0.5354\n",
            "Test Loss: 0.6840275526046753 , Test Accuracy: 0.5353535413742065\n"
          ]
        }
      ],
      "source": [
        "# Evaluate the model\n",
        "my_test_loss, my_test_accuracy = proposed_model.evaluate(X_test1, y_test1)\n",
        "print(\"Test Loss:\" ,my_test_loss ,\",\" ,\"Test Accuracy:\",my_test_accuracy)"
      ]
    },
    {
      "cell_type": "code",
      "execution_count": 26,
      "id": "0QKD2vi8A3Ld",
      "metadata": {
        "colab": {
          "base_uri": "https://localhost:8080/"
        },
        "id": "0QKD2vi8A3Ld",
        "outputId": "ac9930d2-8c18-4126-a7e7-d2a1de270e23"
      },
      "outputs": [
        {
          "name": "stdout",
          "output_type": "stream",
          "text": [
            "4/4 [==============================] - 1s 127ms/step\n"
          ]
        }
      ],
      "source": [
        "proposed_model_predictions = proposed_model.predict(X_test)\n",
        "proposed_model_predictions = np.where(proposed_model_predictions >= 0.5, 1, 0)"
      ]
    },
    {
      "cell_type": "code",
      "execution_count": 27,
      "id": "rMu1lQzX0bEa",
      "metadata": {
        "colab": {
          "base_uri": "https://localhost:8080/"
        },
        "id": "rMu1lQzX0bEa",
        "outputId": "5d23bba1-4a37-46d5-ea39-431d26e943e5"
      },
      "outputs": [
        {
          "name": "stdout",
          "output_type": "stream",
          "text": [
            "              precision    recall  f1-score   support\n",
            "\n",
            "         0.0       0.73      0.29      0.41        56\n",
            "         1.0       0.48      0.86      0.62        43\n",
            "\n",
            "    accuracy                           0.54        99\n",
            "   macro avg       0.60      0.57      0.51        99\n",
            "weighted avg       0.62      0.54      0.50        99\n",
            "\n"
          ]
        }
      ],
      "source": [
        "print(classification_report(y_test1,proposed_model_predictions))"
      ]
    },
    {
      "cell_type": "code",
      "execution_count": 28,
      "id": "35GlVtVqFBFi",
      "metadata": {
        "colab": {
          "base_uri": "https://localhost:8080/",
          "height": 513
        },
        "id": "35GlVtVqFBFi",
        "outputId": "c28f44eb-ef77-43c5-fcf8-ba5853722248"
      },
      "outputs": [
        {
          "data": {
            "image/png": "[encoded data removed]",
            "text/plain": [
              "<Figure size 1200x800 with 1 Axes>"
            ]
          },
          "metadata": {},
          "output_type": "display_data"
        }
      ],
      "source": [
        "lowest = np.amin(my_history_early.history['val_loss'])\n",
        "time = np.where(my_history_early.history['val_loss'] == lowest)\n",
        "\n",
        "\n",
        "fig = plt.figure(figsize = (12,8))\n",
        "fig = plt.plot(my_history_early.history['loss'])\n",
        "fig = plt.plot(my_history_early.history['val_loss'])\n",
        "fig = plt.axvline(x = time, color = 'green', linestyle = '--')\n",
        "plt.title('Proposed Model - Training vs Validation Loss')\n",
        "plt.ylabel('Loss')\n",
        "plt.xlabel('Iteration')\n",
        "plt.legend(['train', 'val', 'model'], loc='upper right')\n",
        "plt.show()"
      ]
    },
    {
      "attachments": {},
      "cell_type": "markdown",
      "id": "7a28e866",
      "metadata": {},
      "source": [
        "# TensorBoard\n",
        "### Showing how the Proposed Model's gradients and hyperparameters are changing with time."
      ]
    },
    {
      "cell_type": "code",
      "execution_count": 29,
      "id": "2b2e9757",
      "metadata": {},
      "outputs": [
        {
          "data": {
            "text/html": [
              "\n",
              "      <iframe id=\"tensorboard-frame-97879364e30f3624\" width=\"100%\" height=\"800\" frameborder=\"0\">\n",
              "      </iframe>\n",
              "      <script>\n",
              "        (function() {\n",
              "          const frame = document.getElementById(\"tensorboard-frame-97879364e30f3624\");\n",
              "          const url = new URL(\"http://localhost\");\n",
              "          const port = 6006;\n",
              "          if (port) {\n",
              "            url.port = port;\n",
              "          }\n",
              "          frame.src = url;\n",
              "        })();\n",
              "      </script>\n",
              "    "
            ],
            "text/plain": [
              "<IPython.core.display.HTML object>"
            ]
          },
          "metadata": {},
          "output_type": "display_data"
        }
      ],
      "source": [
        "%tensorboard --logdir logs/fit"
      ]
    },
    {
      "attachments": {},
      "cell_type": "markdown",
      "id": "9a98411f",
      "metadata": {},
      "source": [
        "# Hyperparameter tuning for Proposed Model"
      ]
    },
    {
      "cell_type": "code",
      "execution_count": 30,
      "id": "e0b86472",
      "metadata": {},
      "outputs": [],
      "source": [
        "import itertools"
      ]
    },
    {
      "cell_type": "code",
      "execution_count": 31,
      "id": "80146f6e",
      "metadata": {},
      "outputs": [],
      "source": [
        "#Ref: https://www.linkedin.com/pulse/solving-out-memory-oom-errors-keras-tensorflow-running-wayne-cheng/\n",
        "'''\n",
        "This code is taken from the above reference, and is \n",
        "used to dynamically allocate memory to GPU making it\n",
        "available for each tensorflow operation. This code is\n",
        "making sure the below code runs without issues.\n",
        "'''\n",
        "\n",
        "from tensorflow.compat.v1 import ConfigProto\n",
        "from tensorflow.compat.v1 import InteractiveSession\n",
        "config = ConfigProto()\n",
        "config.gpu_options.allow_growth = True\n",
        "session = InteractiveSession(config=config)"
      ]
    },
    {
      "cell_type": "code",
      "execution_count": 32,
      "id": "eea642e8",
      "metadata": {},
      "outputs": [],
      "source": [
        "def build_model(lr, opt_val):\n",
        "    my_layers = [\n",
        "        Input(shape=(320, 320, 3)),\n",
        "        ProposedLayer(weight_matrix=16, kernel_size=3),\n",
        "        ReLU(),\n",
        "        MaxPooling2D(pool_size=(2, 2)),\n",
        "        ProposedLayer(weight_matrix=12, kernel_size=3),\n",
        "        ReLU(),\n",
        "        MaxPooling2D(pool_size=(2, 2)),\n",
        "        ProposedLayer(weight_matrix=8, kernel_size=3),\n",
        "        ReLU(),\n",
        "        Flatten(),\n",
        "        Dense(64),\n",
        "        ReLU(),\n",
        "        Dense(1, activation='sigmoid')\n",
        "    ]\n",
        "\n",
        "    # Create the Sequential model\n",
        "    hp_model = Sequential(my_layers)\n",
        "\n",
        "    # Check for model optimizer and add that\n",
        "    if opt_val == 'SGD':\n",
        "        opt_val = tf.keras.optimizers.SGD(learning_rate = lr)\n",
        "    elif opt_val == 'Adam':\n",
        "        opt_val = tf.keras.optimizers.Adam(learning_rate = lr)\n",
        "    \n",
        "    # Compile the model\n",
        "    hp_model.compile(optimizer = opt_val, \n",
        "                        loss = tf.keras.losses.BinaryCrossentropy(), \n",
        "                        metrics = ['accuracy'])\n",
        "    \n",
        "    return hp_model"
      ]
    },
    {
      "cell_type": "code",
      "execution_count": 33,
      "id": "5d97072f",
      "metadata": {},
      "outputs": [],
      "source": [
        "results = pd.DataFrame(columns = [\"Optimizer Name\", \"Learning Rate\", \"Batch Size\", \n",
        "                                  \"Training Accuracy\", \"Training Loss\", \"Validation Accuracy\", \"Validation Loss\"])"
      ]
    },
    {
      "cell_type": "code",
      "execution_count": 34,
      "id": "b89ed4f4",
      "metadata": {},
      "outputs": [
        {
          "name": "stdout",
          "output_type": "stream",
          "text": [
            "\n",
            " Training with Batch size: 8, Learning Rate: 0.1 & Optimizer: SGD\n",
            "\n",
            " Training with Batch size: 8, Learning Rate: 0.1 & Optimizer: Adam\n",
            "\n",
            " Training with Batch size: 8, Learning Rate: 0.01 & Optimizer: SGD\n",
            "\n",
            " Training with Batch size: 8, Learning Rate: 0.01 & Optimizer: Adam\n",
            "\n",
            " Training with Batch size: 8, Learning Rate: 0.001 & Optimizer: SGD\n",
            "\n",
            " Training with Batch size: 8, Learning Rate: 0.001 & Optimizer: Adam\n",
            "\n",
            " Training with Batch size: 16, Learning Rate: 0.1 & Optimizer: SGD\n",
            "\n",
            " Training with Batch size: 16, Learning Rate: 0.1 & Optimizer: Adam\n",
            "\n",
            " Training with Batch size: 16, Learning Rate: 0.01 & Optimizer: SGD\n",
            "\n",
            " Training with Batch size: 16, Learning Rate: 0.01 & Optimizer: Adam\n",
            "\n",
            " Training with Batch size: 16, Learning Rate: 0.001 & Optimizer: SGD\n",
            "\n",
            " Training with Batch size: 16, Learning Rate: 0.001 & Optimizer: Adam\n",
            "\n",
            " Training with Batch size: 32, Learning Rate: 0.1 & Optimizer: SGD\n",
            "\n",
            " Training with Batch size: 32, Learning Rate: 0.1 & Optimizer: Adam\n",
            "\n",
            " Training with Batch size: 32, Learning Rate: 0.01 & Optimizer: SGD\n",
            "\n",
            " Training with Batch size: 32, Learning Rate: 0.01 & Optimizer: Adam\n",
            "\n",
            " Training with Batch size: 32, Learning Rate: 0.001 & Optimizer: SGD\n",
            "\n",
            " Training with Batch size: 32, Learning Rate: 0.001 & Optimizer: Adam\n"
          ]
        }
      ],
      "source": [
        "batch_sizes = [8, 16, 32]\n",
        "learning_rates = [0.1, 0.01, 0.001]\n",
        "optimizers = ['SGD', 'Adam']\n",
        "\n",
        "for batch, lr, opt_val in itertools.product(batch_sizes, learning_rates, optimizers):\n",
        "        print(f\"\\n Training with Batch size: {batch}, Learning Rate: {lr} & Optimizer: {opt_val}\")\n",
        "        hp_model = build_model(lr, opt_val)\n",
        "        hp_history = hp_model.fit(X_train1, y_train1, batch_size=batch, epochs=500, \n",
        "                        validation_split=0.2, callbacks=[Early_stopping], \n",
        "                        shuffle = False, verbose = 0)\n",
        "        \n",
        "        \n",
        "        val_loss = np.amin(hp_history.history['val_loss'])\n",
        "        val_auc = np.amax(np.where(hp_history.history['val_loss'] == val_loss, hp_history.history['val_accuracy'], 0))\n",
        "        train_loss = np.amax(np.where(hp_history.history['val_loss'] == val_loss, hp_history.history['loss'], 0))\n",
        "        train_auc = np.amax(np.where(hp_history.history['val_loss'] == val_loss, hp_history.history['accuracy'], 0))\n",
        "\n",
        "\n",
        "        row = {\"Optimizer Name\" : opt_val, \"Learning Rate\" : lr, \"Batch Size\" : batch, \n",
        "                \"Training Accuracy\" : train_auc, \"Training Loss\" : train_loss, \n",
        "                \"Validation Accuracy\" : val_auc, \"Validation Loss\" : val_loss}\n",
        "\n",
        "       \n",
        "        results = results.append(row, ignore_index = True)\n",
        "    "
      ]
    },
    {
      "cell_type": "code",
      "execution_count": 42,
      "id": "f319969d",
      "metadata": {},
      "outputs": [
        {
          "data": {
            "text/html": [
              "<div>\n",
              "<style scoped>\n",
              "    .dataframe tbody tr th:only-of-type {\n",
              "        vertical-align: middle;\n",
              "    }\n",
              "\n",
              "    .dataframe tbody tr th {\n",
              "        vertical-align: top;\n",
              "    }\n",
              "\n",
              "    .dataframe thead th {\n",
              "        text-align: right;\n",
              "    }\n",
              "</style>\n",
              "<table border=\"1\" class=\"dataframe\">\n",
              "  <thead>\n",
              "    <tr style=\"text-align: right;\">\n",
              "      <th></th>\n",
              "      <th>Learning Rate</th>\n",
              "      <th>Batch Size</th>\n",
              "      <th>Training Accuracy</th>\n",
              "      <th>Training Loss</th>\n",
              "      <th>Validation Accuracy</th>\n",
              "      <th>Validation Loss</th>\n",
              "    </tr>\n",
              "    <tr>\n",
              "      <th>Optimizer Name</th>\n",
              "      <th></th>\n",
              "      <th></th>\n",
              "      <th></th>\n",
              "      <th></th>\n",
              "      <th></th>\n",
              "      <th></th>\n",
              "    </tr>\n",
              "  </thead>\n",
              "  <tbody>\n",
              "    <tr>\n",
              "      <th>Adam</th>\n",
              "      <td>0.001</td>\n",
              "      <td>8</td>\n",
              "      <td>0.461538</td>\n",
              "      <td>0.897826</td>\n",
              "      <td>0.478261</td>\n",
              "      <td>0.693219</td>\n",
              "    </tr>\n",
              "    <tr>\n",
              "      <th>Adam</th>\n",
              "      <td>0.001</td>\n",
              "      <td>16</td>\n",
              "      <td>0.835165</td>\n",
              "      <td>0.423753</td>\n",
              "      <td>0.630435</td>\n",
              "      <td>0.592494</td>\n",
              "    </tr>\n",
              "    <tr>\n",
              "      <th>Adam</th>\n",
              "      <td>0.001</td>\n",
              "      <td>32</td>\n",
              "      <td>0.956044</td>\n",
              "      <td>0.201848</td>\n",
              "      <td>0.673913</td>\n",
              "      <td>0.587702</td>\n",
              "    </tr>\n",
              "    <tr>\n",
              "      <th>Adam</th>\n",
              "      <td>0.010</td>\n",
              "      <td>8</td>\n",
              "      <td>0.769231</td>\n",
              "      <td>0.479022</td>\n",
              "      <td>0.543478</td>\n",
              "      <td>0.628552</td>\n",
              "    </tr>\n",
              "    <tr>\n",
              "      <th>Adam</th>\n",
              "      <td>0.010</td>\n",
              "      <td>16</td>\n",
              "      <td>0.587912</td>\n",
              "      <td>0.683627</td>\n",
              "      <td>0.478261</td>\n",
              "      <td>0.695873</td>\n",
              "    </tr>\n",
              "    <tr>\n",
              "      <th>Adam</th>\n",
              "      <td>0.010</td>\n",
              "      <td>32</td>\n",
              "      <td>0.549451</td>\n",
              "      <td>4.172065</td>\n",
              "      <td>0.500000</td>\n",
              "      <td>0.692603</td>\n",
              "    </tr>\n",
              "    <tr>\n",
              "      <th>Adam</th>\n",
              "      <td>0.100</td>\n",
              "      <td>8</td>\n",
              "      <td>0.587912</td>\n",
              "      <td>0.680872</td>\n",
              "      <td>0.478261</td>\n",
              "      <td>0.712323</td>\n",
              "    </tr>\n",
              "    <tr>\n",
              "      <th>Adam</th>\n",
              "      <td>0.100</td>\n",
              "      <td>16</td>\n",
              "      <td>0.587912</td>\n",
              "      <td>0.678588</td>\n",
              "      <td>0.478261</td>\n",
              "      <td>0.696877</td>\n",
              "    </tr>\n",
              "    <tr>\n",
              "      <th>Adam</th>\n",
              "      <td>0.100</td>\n",
              "      <td>32</td>\n",
              "      <td>0.494505</td>\n",
              "      <td>18540.005859</td>\n",
              "      <td>0.500000</td>\n",
              "      <td>0.690041</td>\n",
              "    </tr>\n",
              "    <tr>\n",
              "      <th>SGD</th>\n",
              "      <td>0.001</td>\n",
              "      <td>8</td>\n",
              "      <td>0.851648</td>\n",
              "      <td>0.356966</td>\n",
              "      <td>0.760870</td>\n",
              "      <td>0.554501</td>\n",
              "    </tr>\n",
              "    <tr>\n",
              "      <th>SGD</th>\n",
              "      <td>0.001</td>\n",
              "      <td>16</td>\n",
              "      <td>0.928571</td>\n",
              "      <td>0.264803</td>\n",
              "      <td>0.782609</td>\n",
              "      <td>0.521113</td>\n",
              "    </tr>\n",
              "    <tr>\n",
              "      <th>SGD</th>\n",
              "      <td>0.001</td>\n",
              "      <td>32</td>\n",
              "      <td>0.829670</td>\n",
              "      <td>0.430095</td>\n",
              "      <td>0.695652</td>\n",
              "      <td>0.579030</td>\n",
              "    </tr>\n",
              "    <tr>\n",
              "      <th>SGD</th>\n",
              "      <td>0.010</td>\n",
              "      <td>8</td>\n",
              "      <td>0.835165</td>\n",
              "      <td>0.452665</td>\n",
              "      <td>0.782609</td>\n",
              "      <td>0.560349</td>\n",
              "    </tr>\n",
              "    <tr>\n",
              "      <th>SGD</th>\n",
              "      <td>0.010</td>\n",
              "      <td>16</td>\n",
              "      <td>0.912088</td>\n",
              "      <td>0.300556</td>\n",
              "      <td>0.695652</td>\n",
              "      <td>0.517935</td>\n",
              "    </tr>\n",
              "    <tr>\n",
              "      <th>SGD</th>\n",
              "      <td>0.010</td>\n",
              "      <td>32</td>\n",
              "      <td>0.917582</td>\n",
              "      <td>0.313247</td>\n",
              "      <td>0.760870</td>\n",
              "      <td>0.554339</td>\n",
              "    </tr>\n",
              "    <tr>\n",
              "      <th>SGD</th>\n",
              "      <td>0.100</td>\n",
              "      <td>8</td>\n",
              "      <td>0.538462</td>\n",
              "      <td>1.471349</td>\n",
              "      <td>0.478261</td>\n",
              "      <td>0.697940</td>\n",
              "    </tr>\n",
              "    <tr>\n",
              "      <th>SGD</th>\n",
              "      <td>0.100</td>\n",
              "      <td>16</td>\n",
              "      <td>0.428571</td>\n",
              "      <td>2.052066</td>\n",
              "      <td>0.478261</td>\n",
              "      <td>0.694142</td>\n",
              "    </tr>\n",
              "    <tr>\n",
              "      <th>SGD</th>\n",
              "      <td>0.100</td>\n",
              "      <td>32</td>\n",
              "      <td>0.549451</td>\n",
              "      <td>1.426616</td>\n",
              "      <td>0.456522</td>\n",
              "      <td>0.692551</td>\n",
              "    </tr>\n",
              "  </tbody>\n",
              "</table>\n",
              "</div>"
            ],
            "text/plain": [
              "                Learning Rate Batch Size  Training Accuracy  Training Loss  \\\n",
              "Optimizer Name                                                               \n",
              "Adam                    0.001          8           0.461538       0.897826   \n",
              "Adam                    0.001         16           0.835165       0.423753   \n",
              "Adam                    0.001         32           0.956044       0.201848   \n",
              "Adam                    0.010          8           0.769231       0.479022   \n",
              "Adam                    0.010         16           0.587912       0.683627   \n",
              "Adam                    0.010         32           0.549451       4.172065   \n",
              "Adam                    0.100          8           0.587912       0.680872   \n",
              "Adam                    0.100         16           0.587912       0.678588   \n",
              "Adam                    0.100         32           0.494505   18540.005859   \n",
              "SGD                     0.001          8           0.851648       0.356966   \n",
              "SGD                     0.001         16           0.928571       0.264803   \n",
              "SGD                     0.001         32           0.829670       0.430095   \n",
              "SGD                     0.010          8           0.835165       0.452665   \n",
              "SGD                     0.010         16           0.912088       0.300556   \n",
              "SGD                     0.010         32           0.917582       0.313247   \n",
              "SGD                     0.100          8           0.538462       1.471349   \n",
              "SGD                     0.100         16           0.428571       2.052066   \n",
              "SGD                     0.100         32           0.549451       1.426616   \n",
              "\n",
              "                Validation Accuracy  Validation Loss  \n",
              "Optimizer Name                                        \n",
              "Adam                       0.478261         0.693219  \n",
              "Adam                       0.630435         0.592494  \n",
              "Adam                       0.673913         0.587702  \n",
              "Adam                       0.543478         0.628552  \n",
              "Adam                       0.478261         0.695873  \n",
              "Adam                       0.500000         0.692603  \n",
              "Adam                       0.478261         0.712323  \n",
              "Adam                       0.478261         0.696877  \n",
              "Adam                       0.500000         0.690041  \n",
              "SGD                        0.760870         0.554501  \n",
              "SGD                        0.782609         0.521113  \n",
              "SGD                        0.695652         0.579030  \n",
              "SGD                        0.782609         0.560349  \n",
              "SGD                        0.695652         0.517935  \n",
              "SGD                        0.760870         0.554339  \n",
              "SGD                        0.478261         0.697940  \n",
              "SGD                        0.478261         0.694142  \n",
              "SGD                        0.456522         0.692551  "
            ]
          },
          "execution_count": 42,
          "metadata": {},
          "output_type": "execute_result"
        }
      ],
      "source": [
        "hp_results = results.sort_values(['Optimizer Name','Learning Rate'])\n",
        "hp_results = hp_results.set_index(['Optimizer Name'])\n",
        "hp_results"
      ]
    },
    {
      "attachments": {},
      "cell_type": "markdown",
      "id": "283d3259",
      "metadata": {},
      "source": [
        "### Extending the model"
      ]
    },
    {
      "cell_type": "code",
      "execution_count": 22,
      "id": "c26dd903",
      "metadata": {},
      "outputs": [],
      "source": [
        "#Extended Layers\n",
        "ext_layers = [\n",
        "        Input(shape=(320, 320, 3)),\n",
        "        ProposedLayer(weight_matrix=32, kernel_size=3),\n",
        "        ReLU(),\n",
        "        MaxPooling2D(pool_size=(2, 2)),\n",
        "        ProposedLayer(weight_matrix=18, kernel_size=3),\n",
        "        ReLU(),\n",
        "        MaxPooling2D(pool_size=(2, 2)),\n",
        "        ProposedLayer(weight_matrix=16, kernel_size=3),\n",
        "        ReLU(),\n",
        "        MaxPooling2D(pool_size=(2, 2)),\n",
        "        ProposedLayer(weight_matrix=12, kernel_size=3),\n",
        "        ReLU(),\n",
        "        MaxPooling2D(pool_size=(2, 2)),\n",
        "        ProposedLayer(weight_matrix=8, kernel_size=3),\n",
        "        ReLU(),\n",
        "        MaxPooling2D(pool_size=(2, 2)),\n",
        "        Flatten(),\n",
        "        Dense(128),\n",
        "        ReLU(),\n",
        "        Dense(64),\n",
        "        ReLU(),\n",
        "        Dense(1, activation='sigmoid')\n",
        "    ]\n",
        "\n",
        "# Create the Extended Sequential model\n",
        "ext_model = Sequential(ext_layers)"
      ]
    },
    {
      "cell_type": "code",
      "execution_count": 34,
      "id": "464350d5",
      "metadata": {},
      "outputs": [
        {
          "name": "stdout",
          "output_type": "stream",
          "text": [
            "Model: \"sequential\"\n",
            "_________________________________________________________________\n",
            " Layer (type)                Output Shape              Param #   \n",
            "=================================================================\n",
            " proposed_layer_10 (Proposed  (None, 320, 320, 32)     864       \n",
            " Layer)                                                          \n",
            "                                                                 \n",
            " re_lu_14 (ReLU)             (None, 320, 320, 32)      0         \n",
            "                                                                 \n",
            " max_pooling2d_10 (MaxPoolin  (None, 160, 160, 32)     0         \n",
            " g2D)                                                            \n",
            "                                                                 \n",
            " proposed_layer_11 (Proposed  (None, 160, 160, 18)     5184      \n",
            " Layer)                                                          \n",
            "                                                                 \n",
            " re_lu_15 (ReLU)             (None, 160, 160, 18)      0         \n",
            "                                                                 \n",
            " max_pooling2d_11 (MaxPoolin  (None, 80, 80, 18)       0         \n",
            " g2D)                                                            \n",
            "                                                                 \n",
            " proposed_layer_12 (Proposed  (None, 80, 80, 16)       2592      \n",
            " Layer)                                                          \n",
            "                                                                 \n",
            " re_lu_16 (ReLU)             (None, 80, 80, 16)        0         \n",
            "                                                                 \n",
            " max_pooling2d_12 (MaxPoolin  (None, 40, 40, 16)       0         \n",
            " g2D)                                                            \n",
            "                                                                 \n",
            " proposed_layer_13 (Proposed  (None, 40, 40, 12)       1728      \n",
            " Layer)                                                          \n",
            "                                                                 \n",
            " re_lu_17 (ReLU)             (None, 40, 40, 12)        0         \n",
            "                                                                 \n",
            " max_pooling2d_13 (MaxPoolin  (None, 20, 20, 12)       0         \n",
            " g2D)                                                            \n",
            "                                                                 \n",
            " proposed_layer_14 (Proposed  (None, 20, 20, 8)        864       \n",
            " Layer)                                                          \n",
            "                                                                 \n",
            " re_lu_18 (ReLU)             (None, 20, 20, 8)         0         \n",
            "                                                                 \n",
            " max_pooling2d_14 (MaxPoolin  (None, 10, 10, 8)        0         \n",
            " g2D)                                                            \n",
            "                                                                 \n",
            " flatten_2 (Flatten)         (None, 800)               0         \n",
            "                                                                 \n",
            " dense_6 (Dense)             (None, 128)               102528    \n",
            "                                                                 \n",
            " re_lu_19 (ReLU)             (None, 128)               0         \n",
            "                                                                 \n",
            " dense_7 (Dense)             (None, 64)                8256      \n",
            "                                                                 \n",
            " re_lu_20 (ReLU)             (None, 64)                0         \n",
            "                                                                 \n",
            " dense_8 (Dense)             (None, 1)                 65        \n",
            "                                                                 \n",
            "=================================================================\n",
            "Total params: 122,081\n",
            "Trainable params: 122,081\n",
            "Non-trainable params: 0\n",
            "_________________________________________________________________\n"
          ]
        }
      ],
      "source": [
        "ext_model.summary()"
      ]
    },
    {
      "cell_type": "code",
      "execution_count": 23,
      "id": "6e0c5974",
      "metadata": {},
      "outputs": [],
      "source": [
        "ext_model.compile(optimizer = tf.keras.optimizers.SGD(learning_rate=0.001), \n",
        "                        loss = tf.keras.losses.BinaryCrossentropy(), \n",
        "                        metrics = ['accuracy'])"
      ]
    },
    {
      "cell_type": "code",
      "execution_count": 32,
      "id": "ddf180f6",
      "metadata": {},
      "outputs": [
        {
          "name": "stdout",
          "output_type": "stream",
          "text": [
            "Epoch 1/500\n",
            "12/12 [==============================] - 6s 540ms/step - loss: 0.6880 - accuracy: 0.5879 - val_loss: 0.6943 - val_accuracy: 0.4783\n",
            "Epoch 2/500\n",
            "12/12 [==============================] - 6s 529ms/step - loss: 0.6876 - accuracy: 0.5879 - val_loss: 0.6944 - val_accuracy: 0.4783\n",
            "Epoch 3/500\n",
            "12/12 [==============================] - 6s 528ms/step - loss: 0.6872 - accuracy: 0.5879 - val_loss: 0.6946 - val_accuracy: 0.4783\n",
            "Epoch 4/500\n",
            "12/12 [==============================] - 6s 529ms/step - loss: 0.6868 - accuracy: 0.5879 - val_loss: 0.6947 - val_accuracy: 0.4783\n",
            "Epoch 5/500\n",
            "12/12 [==============================] - 6s 528ms/step - loss: 0.6864 - accuracy: 0.5879 - val_loss: 0.6949 - val_accuracy: 0.4783\n",
            "Epoch 6/500\n",
            "12/12 [==============================] - 6s 531ms/step - loss: 0.6861 - accuracy: 0.5879 - val_loss: 0.6951 - val_accuracy: 0.4783\n",
            "Epoch 7/500\n",
            "12/12 [==============================] - 6s 532ms/step - loss: 0.6857 - accuracy: 0.5879 - val_loss: 0.6952 - val_accuracy: 0.4783\n",
            "Epoch 8/500\n",
            "12/12 [==============================] - 6s 531ms/step - loss: 0.6853 - accuracy: 0.5879 - val_loss: 0.6954 - val_accuracy: 0.4783\n",
            "Epoch 9/500\n",
            "12/12 [==============================] - 6s 532ms/step - loss: 0.6850 - accuracy: 0.5879 - val_loss: 0.6956 - val_accuracy: 0.4783\n",
            "Epoch 10/500\n",
            "12/12 [==============================] - 6s 532ms/step - loss: 0.6847 - accuracy: 0.5879 - val_loss: 0.6958 - val_accuracy: 0.4783\n",
            "Epoch 11/500\n",
            "12/12 [==============================] - 6s 535ms/step - loss: 0.6843 - accuracy: 0.5879 - val_loss: 0.6959 - val_accuracy: 0.4783\n"
          ]
        }
      ],
      "source": [
        "ext_history = ext_model.fit(X_train1, y_train1, batch_size = 16, epochs=500, \n",
        "                        validation_split=0.2, callbacks=[Early_stopping], \n",
        "                        shuffle = False, verbose = 1)"
      ]
    },
    {
      "cell_type": "code",
      "execution_count": 36,
      "id": "dc9dfa38",
      "metadata": {},
      "outputs": [
        {
          "name": "stdout",
          "output_type": "stream",
          "text": [
            "Training Loss: 0.6879586577415466, Validation Loss: 0.6942780613899231\n"
          ]
        }
      ],
      "source": [
        "val_loss = np.amin(ext_history.history['val_loss'])\n",
        "train_loss = np.amax(np.where(ext_history.history['val_loss'] == val_loss, ext_history.history['loss'], 0))\n",
        "\n",
        "print(f'Training Loss: {train_loss}, Validation Loss: {val_loss}')"
      ]
    }
  ],
  "metadata": {
    "accelerator": "GPU",
    "colab": {
      "provenance": []
    },
    "gpuClass": "standard",
    "kernelspec": {
      "display_name": "Python 3 (ipykernel)",
      "language": "python",
      "name": "python3"
    },
    "language_info": {
      "codemirror_mode": {
        "name": "ipython",
        "version": 3
      },
      "file_extension": ".py",
      "mimetype": "text/x-python",
      "name": "python",
      "nbconvert_exporter": "python",
      "pygments_lexer": "ipython3",
      "version": "3.10.9"
    }
  },
  "nbformat": 4,
  "nbformat_minor": 5
}
